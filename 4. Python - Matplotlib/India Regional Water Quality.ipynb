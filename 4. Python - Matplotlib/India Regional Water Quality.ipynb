{
 "cells": [
  {
   "cell_type": "markdown",
   "metadata": {},
   "source": [
    "# Data Visualisation in Python\n",
    "\n",
    "### Imports"
   ]
  },
  {
   "cell_type": "code",
   "execution_count": 123,
   "metadata": {},
   "outputs": [],
   "source": [
    "import numpy as np\n",
    "import pandas as pd\n",
    "import matplotlib.pyplot as plt\n",
    "import seaborn as sns\n",
    "import plotly.express as px"
   ]
  },
  {
   "cell_type": "markdown",
   "metadata": {},
   "source": [
    "### Read CSV file\n",
    "\n",
    "Encoding error, had to set manually"
   ]
  },
  {
   "cell_type": "code",
   "execution_count": 124,
   "metadata": {},
   "outputs": [
    {
     "data": {
      "text/html": [
       "<div>\n",
       "<style scoped>\n",
       "    .dataframe tbody tr th:only-of-type {\n",
       "        vertical-align: middle;\n",
       "    }\n",
       "\n",
       "    .dataframe tbody tr th {\n",
       "        vertical-align: top;\n",
       "    }\n",
       "\n",
       "    .dataframe thead th {\n",
       "        text-align: right;\n",
       "    }\n",
       "</style>\n",
       "<table border=\"1\" class=\"dataframe\">\n",
       "  <thead>\n",
       "    <tr style=\"text-align: right;\">\n",
       "      <th></th>\n",
       "      <th>State Name</th>\n",
       "      <th>District Name</th>\n",
       "      <th>Block Name</th>\n",
       "      <th>Panchayat Name</th>\n",
       "      <th>Village Name</th>\n",
       "      <th>Habitation Name</th>\n",
       "      <th>Quality Parameter</th>\n",
       "      <th>Year</th>\n",
       "    </tr>\n",
       "  </thead>\n",
       "  <tbody>\n",
       "    <tr>\n",
       "      <th>0</th>\n",
       "      <td>ANDHRA PRADESH</td>\n",
       "      <td>EAST GODAVARI(04)</td>\n",
       "      <td>PRATHIPADU(10)</td>\n",
       "      <td>GOKAVARAM(04)</td>\n",
       "      <td>VANTHADA(014 )</td>\n",
       "      <td>VANTHADA(0404410014010400)</td>\n",
       "      <td>Salinity</td>\n",
       "      <td>1/4/2009</td>\n",
       "    </tr>\n",
       "    <tr>\n",
       "      <th>1</th>\n",
       "      <td>ANDHRA PRADESH</td>\n",
       "      <td>EAST GODAVARI(04)</td>\n",
       "      <td>PRATHIPADU(10)</td>\n",
       "      <td>GOKAVARAM(04)</td>\n",
       "      <td>PANDAVULAPALEM(022 )</td>\n",
       "      <td>PANDAVULAPALEM(0404410022010400)</td>\n",
       "      <td>Fluoride</td>\n",
       "      <td>1/4/2009</td>\n",
       "    </tr>\n",
       "    <tr>\n",
       "      <th>2</th>\n",
       "      <td>ANDHRA PRADESH</td>\n",
       "      <td>EAST GODAVARI(04)</td>\n",
       "      <td>PRATHIPADU(10)</td>\n",
       "      <td>GAJJANAPUDI(06)</td>\n",
       "      <td>G. KOTHURU(023 )</td>\n",
       "      <td>G. KOTHURU(0404410023010600)</td>\n",
       "      <td>Salinity</td>\n",
       "      <td>1/4/2009</td>\n",
       "    </tr>\n",
       "    <tr>\n",
       "      <th>3</th>\n",
       "      <td>ANDHRA PRADESH</td>\n",
       "      <td>EAST GODAVARI(04)</td>\n",
       "      <td>PRATHIPADU(10)</td>\n",
       "      <td>GAJJANAPUDI(06)</td>\n",
       "      <td>GAJJANAPUDI(029 )</td>\n",
       "      <td>GAJJANAPUDI(0404410029010600)</td>\n",
       "      <td>Salinity</td>\n",
       "      <td>1/4/2009</td>\n",
       "    </tr>\n",
       "    <tr>\n",
       "      <th>4</th>\n",
       "      <td>ANDHRA PRADESH</td>\n",
       "      <td>EAST GODAVARI(04)</td>\n",
       "      <td>PRATHIPADU(10)</td>\n",
       "      <td>CHINTALURU(10)</td>\n",
       "      <td>CHINTALURU(028 )</td>\n",
       "      <td>CHINTALURU(0404410028011000)</td>\n",
       "      <td>Salinity</td>\n",
       "      <td>1/4/2009</td>\n",
       "    </tr>\n",
       "    <tr>\n",
       "      <th>...</th>\n",
       "      <td>...</td>\n",
       "      <td>...</td>\n",
       "      <td>...</td>\n",
       "      <td>...</td>\n",
       "      <td>...</td>\n",
       "      <td>...</td>\n",
       "      <td>...</td>\n",
       "      <td>...</td>\n",
       "    </tr>\n",
       "    <tr>\n",
       "      <th>550237</th>\n",
       "      <td>ASSAM</td>\n",
       "      <td>JORHAT</td>\n",
       "      <td>KALIAPANI</td>\n",
       "      <td>CHINTAMONIGARH</td>\n",
       "      <td>GHARACHOWA  HABI  GAON</td>\n",
       "      <td>2 NO. BORA - SAIKIA  CHUCK</td>\n",
       "      <td>Iron</td>\n",
       "      <td>1/4/2012</td>\n",
       "    </tr>\n",
       "    <tr>\n",
       "      <th>550238</th>\n",
       "      <td>ASSAM</td>\n",
       "      <td>JORHAT</td>\n",
       "      <td>KALIAPANI</td>\n",
       "      <td>CHINTAMONIGARH</td>\n",
       "      <td>GHARPHALIA GAON</td>\n",
       "      <td>GHARPHOLIA CHUCK</td>\n",
       "      <td>Iron</td>\n",
       "      <td>1/4/2012</td>\n",
       "    </tr>\n",
       "    <tr>\n",
       "      <th>550239</th>\n",
       "      <td>ASSAM</td>\n",
       "      <td>JORHAT</td>\n",
       "      <td>KALIAPANI</td>\n",
       "      <td>TAMULICHIGA  GAON</td>\n",
       "      <td>SIMALUGURI GAON</td>\n",
       "      <td>SIMALUGURI  BAMUN   CHUCK</td>\n",
       "      <td>Iron</td>\n",
       "      <td>1/4/2012</td>\n",
       "    </tr>\n",
       "    <tr>\n",
       "      <th>550240</th>\n",
       "      <td>ASSAM</td>\n",
       "      <td>JORHAT</td>\n",
       "      <td>KALIAPANI</td>\n",
       "      <td>TAMULICHIGA  GAON</td>\n",
       "      <td>SIMALUGURI GAON</td>\n",
       "      <td>POURUA  CHANGMI   CHUCK</td>\n",
       "      <td>Iron</td>\n",
       "      <td>1/4/2012</td>\n",
       "    </tr>\n",
       "    <tr>\n",
       "      <th>550241</th>\n",
       "      <td>ASSAM</td>\n",
       "      <td>JORHAT</td>\n",
       "      <td>KALIAPANI</td>\n",
       "      <td>TAMULICHIGA  GAON</td>\n",
       "      <td>SIMALUGURI GAON</td>\n",
       "      <td>TATALIGURI    KOIBORTA  CHUCK</td>\n",
       "      <td>Iron</td>\n",
       "      <td>1/4/2012</td>\n",
       "    </tr>\n",
       "  </tbody>\n",
       "</table>\n",
       "<p>550242 rows × 8 columns</p>\n",
       "</div>"
      ],
      "text/plain": [
       "            State Name      District Name      Block Name     Panchayat Name  \\\n",
       "0       ANDHRA PRADESH  EAST GODAVARI(04)  PRATHIPADU(10)      GOKAVARAM(04)   \n",
       "1       ANDHRA PRADESH  EAST GODAVARI(04)  PRATHIPADU(10)      GOKAVARAM(04)   \n",
       "2       ANDHRA PRADESH  EAST GODAVARI(04)  PRATHIPADU(10)    GAJJANAPUDI(06)   \n",
       "3       ANDHRA PRADESH  EAST GODAVARI(04)  PRATHIPADU(10)    GAJJANAPUDI(06)   \n",
       "4       ANDHRA PRADESH  EAST GODAVARI(04)  PRATHIPADU(10)     CHINTALURU(10)   \n",
       "...                ...                ...             ...                ...   \n",
       "550237           ASSAM             JORHAT       KALIAPANI     CHINTAMONIGARH   \n",
       "550238           ASSAM             JORHAT       KALIAPANI     CHINTAMONIGARH   \n",
       "550239           ASSAM             JORHAT       KALIAPANI  TAMULICHIGA  GAON   \n",
       "550240           ASSAM             JORHAT       KALIAPANI  TAMULICHIGA  GAON   \n",
       "550241           ASSAM             JORHAT       KALIAPANI  TAMULICHIGA  GAON   \n",
       "\n",
       "                  Village Name                   Habitation Name  \\\n",
       "0               VANTHADA(014 )        VANTHADA(0404410014010400)   \n",
       "1         PANDAVULAPALEM(022 )  PANDAVULAPALEM(0404410022010400)   \n",
       "2             G. KOTHURU(023 )      G. KOTHURU(0404410023010600)   \n",
       "3            GAJJANAPUDI(029 )     GAJJANAPUDI(0404410029010600)   \n",
       "4             CHINTALURU(028 )      CHINTALURU(0404410028011000)   \n",
       "...                        ...                               ...   \n",
       "550237  GHARACHOWA  HABI  GAON        2 NO. BORA - SAIKIA  CHUCK   \n",
       "550238         GHARPHALIA GAON                  GHARPHOLIA CHUCK   \n",
       "550239         SIMALUGURI GAON         SIMALUGURI  BAMUN   CHUCK   \n",
       "550240         SIMALUGURI GAON           POURUA  CHANGMI   CHUCK   \n",
       "550241         SIMALUGURI GAON     TATALIGURI    KOIBORTA  CHUCK   \n",
       "\n",
       "       Quality Parameter      Year  \n",
       "0               Salinity  1/4/2009  \n",
       "1               Fluoride  1/4/2009  \n",
       "2               Salinity  1/4/2009  \n",
       "3               Salinity  1/4/2009  \n",
       "4               Salinity  1/4/2009  \n",
       "...                  ...       ...  \n",
       "550237              Iron  1/4/2012  \n",
       "550238              Iron  1/4/2012  \n",
       "550239              Iron  1/4/2012  \n",
       "550240              Iron  1/4/2012  \n",
       "550241              Iron  1/4/2012  \n",
       "\n",
       "[550242 rows x 8 columns]"
      ]
     },
     "execution_count": 124,
     "metadata": {},
     "output_type": "execute_result"
    }
   ],
   "source": [
    "df = pd.read_csv(r\"IndiaAffectedWaterQualityAreas.csv\", encoding = \"cp1252\")\n",
    "df"
   ]
  },
  {
   "cell_type": "markdown",
   "metadata": {},
   "source": [
    "### Data Structure"
   ]
  },
  {
   "cell_type": "code",
   "execution_count": 125,
   "metadata": {},
   "outputs": [
    {
     "data": {
      "text/plain": [
       "(550242, 8)"
      ]
     },
     "execution_count": 125,
     "metadata": {},
     "output_type": "execute_result"
    }
   ],
   "source": [
    "df.shape"
   ]
  },
  {
   "cell_type": "code",
   "execution_count": 126,
   "metadata": {},
   "outputs": [
    {
     "data": {
      "text/html": [
       "<div>\n",
       "<style scoped>\n",
       "    .dataframe tbody tr th:only-of-type {\n",
       "        vertical-align: middle;\n",
       "    }\n",
       "\n",
       "    .dataframe tbody tr th {\n",
       "        vertical-align: top;\n",
       "    }\n",
       "\n",
       "    .dataframe thead th {\n",
       "        text-align: right;\n",
       "    }\n",
       "</style>\n",
       "<table border=\"1\" class=\"dataframe\">\n",
       "  <thead>\n",
       "    <tr style=\"text-align: right;\">\n",
       "      <th></th>\n",
       "      <th>State Name</th>\n",
       "      <th>District Name</th>\n",
       "      <th>Block Name</th>\n",
       "      <th>Panchayat Name</th>\n",
       "      <th>Village Name</th>\n",
       "      <th>Habitation Name</th>\n",
       "      <th>Quality Parameter</th>\n",
       "      <th>Year</th>\n",
       "    </tr>\n",
       "  </thead>\n",
       "  <tbody>\n",
       "    <tr>\n",
       "      <th>0</th>\n",
       "      <td>ANDHRA PRADESH</td>\n",
       "      <td>EAST GODAVARI(04)</td>\n",
       "      <td>PRATHIPADU(10)</td>\n",
       "      <td>GOKAVARAM(04)</td>\n",
       "      <td>VANTHADA(014 )</td>\n",
       "      <td>VANTHADA(0404410014010400)</td>\n",
       "      <td>Salinity</td>\n",
       "      <td>1/4/2009</td>\n",
       "    </tr>\n",
       "    <tr>\n",
       "      <th>1</th>\n",
       "      <td>ANDHRA PRADESH</td>\n",
       "      <td>EAST GODAVARI(04)</td>\n",
       "      <td>PRATHIPADU(10)</td>\n",
       "      <td>GOKAVARAM(04)</td>\n",
       "      <td>PANDAVULAPALEM(022 )</td>\n",
       "      <td>PANDAVULAPALEM(0404410022010400)</td>\n",
       "      <td>Fluoride</td>\n",
       "      <td>1/4/2009</td>\n",
       "    </tr>\n",
       "    <tr>\n",
       "      <th>2</th>\n",
       "      <td>ANDHRA PRADESH</td>\n",
       "      <td>EAST GODAVARI(04)</td>\n",
       "      <td>PRATHIPADU(10)</td>\n",
       "      <td>GAJJANAPUDI(06)</td>\n",
       "      <td>G. KOTHURU(023 )</td>\n",
       "      <td>G. KOTHURU(0404410023010600)</td>\n",
       "      <td>Salinity</td>\n",
       "      <td>1/4/2009</td>\n",
       "    </tr>\n",
       "    <tr>\n",
       "      <th>3</th>\n",
       "      <td>ANDHRA PRADESH</td>\n",
       "      <td>EAST GODAVARI(04)</td>\n",
       "      <td>PRATHIPADU(10)</td>\n",
       "      <td>GAJJANAPUDI(06)</td>\n",
       "      <td>GAJJANAPUDI(029 )</td>\n",
       "      <td>GAJJANAPUDI(0404410029010600)</td>\n",
       "      <td>Salinity</td>\n",
       "      <td>1/4/2009</td>\n",
       "    </tr>\n",
       "    <tr>\n",
       "      <th>4</th>\n",
       "      <td>ANDHRA PRADESH</td>\n",
       "      <td>EAST GODAVARI(04)</td>\n",
       "      <td>PRATHIPADU(10)</td>\n",
       "      <td>CHINTALURU(10)</td>\n",
       "      <td>CHINTALURU(028 )</td>\n",
       "      <td>CHINTALURU(0404410028011000)</td>\n",
       "      <td>Salinity</td>\n",
       "      <td>1/4/2009</td>\n",
       "    </tr>\n",
       "    <tr>\n",
       "      <th>...</th>\n",
       "      <td>...</td>\n",
       "      <td>...</td>\n",
       "      <td>...</td>\n",
       "      <td>...</td>\n",
       "      <td>...</td>\n",
       "      <td>...</td>\n",
       "      <td>...</td>\n",
       "      <td>...</td>\n",
       "    </tr>\n",
       "    <tr>\n",
       "      <th>550237</th>\n",
       "      <td>ASSAM</td>\n",
       "      <td>JORHAT</td>\n",
       "      <td>KALIAPANI</td>\n",
       "      <td>CHINTAMONIGARH</td>\n",
       "      <td>GHARACHOWA  HABI  GAON</td>\n",
       "      <td>2 NO. BORA - SAIKIA  CHUCK</td>\n",
       "      <td>Iron</td>\n",
       "      <td>1/4/2012</td>\n",
       "    </tr>\n",
       "    <tr>\n",
       "      <th>550238</th>\n",
       "      <td>ASSAM</td>\n",
       "      <td>JORHAT</td>\n",
       "      <td>KALIAPANI</td>\n",
       "      <td>CHINTAMONIGARH</td>\n",
       "      <td>GHARPHALIA GAON</td>\n",
       "      <td>GHARPHOLIA CHUCK</td>\n",
       "      <td>Iron</td>\n",
       "      <td>1/4/2012</td>\n",
       "    </tr>\n",
       "    <tr>\n",
       "      <th>550239</th>\n",
       "      <td>ASSAM</td>\n",
       "      <td>JORHAT</td>\n",
       "      <td>KALIAPANI</td>\n",
       "      <td>TAMULICHIGA  GAON</td>\n",
       "      <td>SIMALUGURI GAON</td>\n",
       "      <td>SIMALUGURI  BAMUN   CHUCK</td>\n",
       "      <td>Iron</td>\n",
       "      <td>1/4/2012</td>\n",
       "    </tr>\n",
       "    <tr>\n",
       "      <th>550240</th>\n",
       "      <td>ASSAM</td>\n",
       "      <td>JORHAT</td>\n",
       "      <td>KALIAPANI</td>\n",
       "      <td>TAMULICHIGA  GAON</td>\n",
       "      <td>SIMALUGURI GAON</td>\n",
       "      <td>POURUA  CHANGMI   CHUCK</td>\n",
       "      <td>Iron</td>\n",
       "      <td>1/4/2012</td>\n",
       "    </tr>\n",
       "    <tr>\n",
       "      <th>550241</th>\n",
       "      <td>ASSAM</td>\n",
       "      <td>JORHAT</td>\n",
       "      <td>KALIAPANI</td>\n",
       "      <td>TAMULICHIGA  GAON</td>\n",
       "      <td>SIMALUGURI GAON</td>\n",
       "      <td>TATALIGURI    KOIBORTA  CHUCK</td>\n",
       "      <td>Iron</td>\n",
       "      <td>1/4/2012</td>\n",
       "    </tr>\n",
       "  </tbody>\n",
       "</table>\n",
       "<p>550157 rows × 8 columns</p>\n",
       "</div>"
      ],
      "text/plain": [
       "            State Name      District Name      Block Name     Panchayat Name  \\\n",
       "0       ANDHRA PRADESH  EAST GODAVARI(04)  PRATHIPADU(10)      GOKAVARAM(04)   \n",
       "1       ANDHRA PRADESH  EAST GODAVARI(04)  PRATHIPADU(10)      GOKAVARAM(04)   \n",
       "2       ANDHRA PRADESH  EAST GODAVARI(04)  PRATHIPADU(10)    GAJJANAPUDI(06)   \n",
       "3       ANDHRA PRADESH  EAST GODAVARI(04)  PRATHIPADU(10)    GAJJANAPUDI(06)   \n",
       "4       ANDHRA PRADESH  EAST GODAVARI(04)  PRATHIPADU(10)     CHINTALURU(10)   \n",
       "...                ...                ...             ...                ...   \n",
       "550237           ASSAM             JORHAT       KALIAPANI     CHINTAMONIGARH   \n",
       "550238           ASSAM             JORHAT       KALIAPANI     CHINTAMONIGARH   \n",
       "550239           ASSAM             JORHAT       KALIAPANI  TAMULICHIGA  GAON   \n",
       "550240           ASSAM             JORHAT       KALIAPANI  TAMULICHIGA  GAON   \n",
       "550241           ASSAM             JORHAT       KALIAPANI  TAMULICHIGA  GAON   \n",
       "\n",
       "                  Village Name                   Habitation Name  \\\n",
       "0               VANTHADA(014 )        VANTHADA(0404410014010400)   \n",
       "1         PANDAVULAPALEM(022 )  PANDAVULAPALEM(0404410022010400)   \n",
       "2             G. KOTHURU(023 )      G. KOTHURU(0404410023010600)   \n",
       "3            GAJJANAPUDI(029 )     GAJJANAPUDI(0404410029010600)   \n",
       "4             CHINTALURU(028 )      CHINTALURU(0404410028011000)   \n",
       "...                        ...                               ...   \n",
       "550237  GHARACHOWA  HABI  GAON        2 NO. BORA - SAIKIA  CHUCK   \n",
       "550238         GHARPHALIA GAON                  GHARPHOLIA CHUCK   \n",
       "550239         SIMALUGURI GAON         SIMALUGURI  BAMUN   CHUCK   \n",
       "550240         SIMALUGURI GAON           POURUA  CHANGMI   CHUCK   \n",
       "550241         SIMALUGURI GAON     TATALIGURI    KOIBORTA  CHUCK   \n",
       "\n",
       "       Quality Parameter      Year  \n",
       "0               Salinity  1/4/2009  \n",
       "1               Fluoride  1/4/2009  \n",
       "2               Salinity  1/4/2009  \n",
       "3               Salinity  1/4/2009  \n",
       "4               Salinity  1/4/2009  \n",
       "...                  ...       ...  \n",
       "550237              Iron  1/4/2012  \n",
       "550238              Iron  1/4/2012  \n",
       "550239              Iron  1/4/2012  \n",
       "550240              Iron  1/4/2012  \n",
       "550241              Iron  1/4/2012  \n",
       "\n",
       "[550157 rows x 8 columns]"
      ]
     },
     "execution_count": 126,
     "metadata": {},
     "output_type": "execute_result"
    }
   ],
   "source": [
    "df = df.drop_duplicates()\n",
    "df"
   ]
  },
  {
   "cell_type": "code",
   "execution_count": 127,
   "metadata": {},
   "outputs": [
    {
     "data": {
      "text/plain": [
       "State Name           object\n",
       "District Name        object\n",
       "Block Name           object\n",
       "Panchayat Name       object\n",
       "Village Name         object\n",
       "Habitation Name      object\n",
       "Quality Parameter    object\n",
       "Year                 object\n",
       "dtype: object"
      ]
     },
     "execution_count": 127,
     "metadata": {},
     "output_type": "execute_result"
    }
   ],
   "source": [
    "df.dtypes"
   ]
  },
  {
   "cell_type": "code",
   "execution_count": 128,
   "metadata": {},
   "outputs": [
    {
     "data": {
      "text/html": [
       "<div>\n",
       "<style scoped>\n",
       "    .dataframe tbody tr th:only-of-type {\n",
       "        vertical-align: middle;\n",
       "    }\n",
       "\n",
       "    .dataframe tbody tr th {\n",
       "        vertical-align: top;\n",
       "    }\n",
       "\n",
       "    .dataframe thead th {\n",
       "        text-align: right;\n",
       "    }\n",
       "</style>\n",
       "<table border=\"1\" class=\"dataframe\">\n",
       "  <thead>\n",
       "    <tr style=\"text-align: right;\">\n",
       "      <th></th>\n",
       "      <th>State Name</th>\n",
       "      <th>District Name</th>\n",
       "      <th>Block Name</th>\n",
       "      <th>Panchayat Name</th>\n",
       "      <th>Village Name</th>\n",
       "      <th>Habitation Name</th>\n",
       "      <th>Quality Parameter</th>\n",
       "      <th>Year</th>\n",
       "    </tr>\n",
       "  </thead>\n",
       "  <tbody>\n",
       "    <tr>\n",
       "      <th>count</th>\n",
       "      <td>550157</td>\n",
       "      <td>550157</td>\n",
       "      <td>550157</td>\n",
       "      <td>550157</td>\n",
       "      <td>550157</td>\n",
       "      <td>550157</td>\n",
       "      <td>550157</td>\n",
       "      <td>550157</td>\n",
       "    </tr>\n",
       "    <tr>\n",
       "      <th>unique</th>\n",
       "      <td>27</td>\n",
       "      <td>493</td>\n",
       "      <td>3577</td>\n",
       "      <td>37471</td>\n",
       "      <td>81703</td>\n",
       "      <td>147566</td>\n",
       "      <td>5</td>\n",
       "      <td>4</td>\n",
       "    </tr>\n",
       "    <tr>\n",
       "      <th>top</th>\n",
       "      <td>RAJASTHAN</td>\n",
       "      <td>BARMER</td>\n",
       "      <td>BALESAR</td>\n",
       "      <td>RATANPUR</td>\n",
       "      <td>RAMPUR</td>\n",
       "      <td>HARIJAN TOLA</td>\n",
       "      <td>Iron</td>\n",
       "      <td>1/4/2009</td>\n",
       "    </tr>\n",
       "    <tr>\n",
       "      <th>freq</th>\n",
       "      <td>131417</td>\n",
       "      <td>43752</td>\n",
       "      <td>8358</td>\n",
       "      <td>797</td>\n",
       "      <td>691</td>\n",
       "      <td>3072</td>\n",
       "      <td>302162</td>\n",
       "      <td>179965</td>\n",
       "    </tr>\n",
       "  </tbody>\n",
       "</table>\n",
       "</div>"
      ],
      "text/plain": [
       "       State Name District Name Block Name Panchayat Name Village Name  \\\n",
       "count      550157        550157     550157         550157       550157   \n",
       "unique         27           493       3577          37471        81703   \n",
       "top     RAJASTHAN        BARMER    BALESAR       RATANPUR       RAMPUR   \n",
       "freq       131417         43752       8358            797          691   \n",
       "\n",
       "       Habitation Name Quality Parameter      Year  \n",
       "count           550157            550157    550157  \n",
       "unique          147566                 5         4  \n",
       "top       HARIJAN TOLA              Iron  1/4/2009  \n",
       "freq              3072            302162    179965  "
      ]
     },
     "execution_count": 128,
     "metadata": {},
     "output_type": "execute_result"
    }
   ],
   "source": [
    "df.describe()"
   ]
  },
  {
   "cell_type": "markdown",
   "metadata": {},
   "source": [
    "### Checking for null values and cleaning\n",
    "\n",
    "None present"
   ]
  },
  {
   "cell_type": "code",
   "execution_count": 129,
   "metadata": {},
   "outputs": [
    {
     "data": {
      "text/plain": [
       "State Name           0\n",
       "District Name        0\n",
       "Block Name           0\n",
       "Panchayat Name       0\n",
       "Village Name         0\n",
       "Habitation Name      0\n",
       "Quality Parameter    0\n",
       "Year                 0\n",
       "dtype: int64"
      ]
     },
     "execution_count": 129,
     "metadata": {},
     "output_type": "execute_result"
    }
   ],
   "source": [
    "df.isnull().sum()"
   ]
  },
  {
   "cell_type": "markdown",
   "metadata": {},
   "source": [
    "Clean year value\n",
    "\n",
    "Possible to do this with a more advanced formula on a column with greater unique value count"
   ]
  },
  {
   "cell_type": "code",
   "execution_count": 130,
   "metadata": {},
   "outputs": [
    {
     "name": "stderr",
     "output_type": "stream",
     "text": [
      "C:\\Users\\erisc\\AppData\\Local\\Temp\\ipykernel_26864\\1219055736.py:1: SettingWithCopyWarning:\n",
      "\n",
      "\n",
      "A value is trying to be set on a copy of a slice from a DataFrame.\n",
      "Try using .loc[row_indexer,col_indexer] = value instead\n",
      "\n",
      "See the caveats in the documentation: https://pandas.pydata.org/pandas-docs/stable/user_guide/indexing.html#returning-a-view-versus-a-copy\n",
      "\n"
     ]
    },
    {
     "data": {
      "text/plain": [
       "0         2009\n",
       "1         2009\n",
       "2         2009\n",
       "3         2009\n",
       "4         2009\n",
       "          ... \n",
       "550237    2012\n",
       "550238    2012\n",
       "550239    2012\n",
       "550240    2012\n",
       "550241    2012\n",
       "Name: Year, Length: 550157, dtype: object"
      ]
     },
     "execution_count": 130,
     "metadata": {},
     "output_type": "execute_result"
    }
   ],
   "source": [
    "df[\"Year\"] =df[\"Year\"].replace([\"1/4/2009\",\"1/4/2010\",\"1/4/2011\",\"1/4/2012\"],[\"2009\",\"2010\",\"2011\",\"2012\"])\n",
    "df[\"Year\"]"
   ]
  },
  {
   "cell_type": "markdown",
   "metadata": {},
   "source": [
    "Use regex to remove the numbers in brackets from all names"
   ]
  },
  {
   "cell_type": "code",
   "execution_count": 131,
   "metadata": {},
   "outputs": [
    {
     "data": {
      "text/html": [
       "<div>\n",
       "<style scoped>\n",
       "    .dataframe tbody tr th:only-of-type {\n",
       "        vertical-align: middle;\n",
       "    }\n",
       "\n",
       "    .dataframe tbody tr th {\n",
       "        vertical-align: top;\n",
       "    }\n",
       "\n",
       "    .dataframe thead th {\n",
       "        text-align: right;\n",
       "    }\n",
       "</style>\n",
       "<table border=\"1\" class=\"dataframe\">\n",
       "  <thead>\n",
       "    <tr style=\"text-align: right;\">\n",
       "      <th></th>\n",
       "      <th>State Name</th>\n",
       "      <th>District Name</th>\n",
       "      <th>Block Name</th>\n",
       "      <th>Panchayat Name</th>\n",
       "      <th>Village Name</th>\n",
       "      <th>Habitation Name</th>\n",
       "      <th>Quality Parameter</th>\n",
       "      <th>Year</th>\n",
       "    </tr>\n",
       "  </thead>\n",
       "  <tbody>\n",
       "    <tr>\n",
       "      <th>0</th>\n",
       "      <td>ANDHRA PRADESH</td>\n",
       "      <td>EAST GODAVARI</td>\n",
       "      <td>PRATHIPADU</td>\n",
       "      <td>GOKAVARAM</td>\n",
       "      <td>VANTHADA</td>\n",
       "      <td>VANTHADA</td>\n",
       "      <td>Salinity</td>\n",
       "      <td>2009</td>\n",
       "    </tr>\n",
       "    <tr>\n",
       "      <th>1</th>\n",
       "      <td>ANDHRA PRADESH</td>\n",
       "      <td>EAST GODAVARI</td>\n",
       "      <td>PRATHIPADU</td>\n",
       "      <td>GOKAVARAM</td>\n",
       "      <td>PANDAVULAPALEM</td>\n",
       "      <td>PANDAVULAPALEM</td>\n",
       "      <td>Fluoride</td>\n",
       "      <td>2009</td>\n",
       "    </tr>\n",
       "    <tr>\n",
       "      <th>2</th>\n",
       "      <td>ANDHRA PRADESH</td>\n",
       "      <td>EAST GODAVARI</td>\n",
       "      <td>PRATHIPADU</td>\n",
       "      <td>GAJJANAPUDI</td>\n",
       "      <td>G. KOTHURU</td>\n",
       "      <td>G. KOTHURU</td>\n",
       "      <td>Salinity</td>\n",
       "      <td>2009</td>\n",
       "    </tr>\n",
       "    <tr>\n",
       "      <th>3</th>\n",
       "      <td>ANDHRA PRADESH</td>\n",
       "      <td>EAST GODAVARI</td>\n",
       "      <td>PRATHIPADU</td>\n",
       "      <td>GAJJANAPUDI</td>\n",
       "      <td>GAJJANAPUDI</td>\n",
       "      <td>GAJJANAPUDI</td>\n",
       "      <td>Salinity</td>\n",
       "      <td>2009</td>\n",
       "    </tr>\n",
       "    <tr>\n",
       "      <th>4</th>\n",
       "      <td>ANDHRA PRADESH</td>\n",
       "      <td>EAST GODAVARI</td>\n",
       "      <td>PRATHIPADU</td>\n",
       "      <td>CHINTALURU</td>\n",
       "      <td>CHINTALURU</td>\n",
       "      <td>CHINTALURU</td>\n",
       "      <td>Salinity</td>\n",
       "      <td>2009</td>\n",
       "    </tr>\n",
       "    <tr>\n",
       "      <th>...</th>\n",
       "      <td>...</td>\n",
       "      <td>...</td>\n",
       "      <td>...</td>\n",
       "      <td>...</td>\n",
       "      <td>...</td>\n",
       "      <td>...</td>\n",
       "      <td>...</td>\n",
       "      <td>...</td>\n",
       "    </tr>\n",
       "    <tr>\n",
       "      <th>550237</th>\n",
       "      <td>ASSAM</td>\n",
       "      <td>JORHAT</td>\n",
       "      <td>KALIAPANI</td>\n",
       "      <td>CHINTAMONIGARH</td>\n",
       "      <td>GHARACHOWA  HABI  GAON</td>\n",
       "      <td>2 NO. BORA - SAIKIA  CHUCK</td>\n",
       "      <td>Iron</td>\n",
       "      <td>2012</td>\n",
       "    </tr>\n",
       "    <tr>\n",
       "      <th>550238</th>\n",
       "      <td>ASSAM</td>\n",
       "      <td>JORHAT</td>\n",
       "      <td>KALIAPANI</td>\n",
       "      <td>CHINTAMONIGARH</td>\n",
       "      <td>GHARPHALIA GAON</td>\n",
       "      <td>GHARPHOLIA CHUCK</td>\n",
       "      <td>Iron</td>\n",
       "      <td>2012</td>\n",
       "    </tr>\n",
       "    <tr>\n",
       "      <th>550239</th>\n",
       "      <td>ASSAM</td>\n",
       "      <td>JORHAT</td>\n",
       "      <td>KALIAPANI</td>\n",
       "      <td>TAMULICHIGA  GAON</td>\n",
       "      <td>SIMALUGURI GAON</td>\n",
       "      <td>SIMALUGURI  BAMUN   CHUCK</td>\n",
       "      <td>Iron</td>\n",
       "      <td>2012</td>\n",
       "    </tr>\n",
       "    <tr>\n",
       "      <th>550240</th>\n",
       "      <td>ASSAM</td>\n",
       "      <td>JORHAT</td>\n",
       "      <td>KALIAPANI</td>\n",
       "      <td>TAMULICHIGA  GAON</td>\n",
       "      <td>SIMALUGURI GAON</td>\n",
       "      <td>POURUA  CHANGMI   CHUCK</td>\n",
       "      <td>Iron</td>\n",
       "      <td>2012</td>\n",
       "    </tr>\n",
       "    <tr>\n",
       "      <th>550241</th>\n",
       "      <td>ASSAM</td>\n",
       "      <td>JORHAT</td>\n",
       "      <td>KALIAPANI</td>\n",
       "      <td>TAMULICHIGA  GAON</td>\n",
       "      <td>SIMALUGURI GAON</td>\n",
       "      <td>TATALIGURI    KOIBORTA  CHUCK</td>\n",
       "      <td>Iron</td>\n",
       "      <td>2012</td>\n",
       "    </tr>\n",
       "  </tbody>\n",
       "</table>\n",
       "<p>550157 rows × 8 columns</p>\n",
       "</div>"
      ],
      "text/plain": [
       "            State Name  District Name  Block Name     Panchayat Name  \\\n",
       "0       ANDHRA PRADESH  EAST GODAVARI  PRATHIPADU          GOKAVARAM   \n",
       "1       ANDHRA PRADESH  EAST GODAVARI  PRATHIPADU          GOKAVARAM   \n",
       "2       ANDHRA PRADESH  EAST GODAVARI  PRATHIPADU        GAJJANAPUDI   \n",
       "3       ANDHRA PRADESH  EAST GODAVARI  PRATHIPADU        GAJJANAPUDI   \n",
       "4       ANDHRA PRADESH  EAST GODAVARI  PRATHIPADU         CHINTALURU   \n",
       "...                ...            ...         ...                ...   \n",
       "550237           ASSAM         JORHAT   KALIAPANI     CHINTAMONIGARH   \n",
       "550238           ASSAM         JORHAT   KALIAPANI     CHINTAMONIGARH   \n",
       "550239           ASSAM         JORHAT   KALIAPANI  TAMULICHIGA  GAON   \n",
       "550240           ASSAM         JORHAT   KALIAPANI  TAMULICHIGA  GAON   \n",
       "550241           ASSAM         JORHAT   KALIAPANI  TAMULICHIGA  GAON   \n",
       "\n",
       "                  Village Name                Habitation Name  \\\n",
       "0                     VANTHADA                       VANTHADA   \n",
       "1               PANDAVULAPALEM                 PANDAVULAPALEM   \n",
       "2                   G. KOTHURU                     G. KOTHURU   \n",
       "3                  GAJJANAPUDI                    GAJJANAPUDI   \n",
       "4                   CHINTALURU                     CHINTALURU   \n",
       "...                        ...                            ...   \n",
       "550237  GHARACHOWA  HABI  GAON     2 NO. BORA - SAIKIA  CHUCK   \n",
       "550238         GHARPHALIA GAON               GHARPHOLIA CHUCK   \n",
       "550239         SIMALUGURI GAON      SIMALUGURI  BAMUN   CHUCK   \n",
       "550240         SIMALUGURI GAON        POURUA  CHANGMI   CHUCK   \n",
       "550241         SIMALUGURI GAON  TATALIGURI    KOIBORTA  CHUCK   \n",
       "\n",
       "       Quality Parameter  Year  \n",
       "0               Salinity  2009  \n",
       "1               Fluoride  2009  \n",
       "2               Salinity  2009  \n",
       "3               Salinity  2009  \n",
       "4               Salinity  2009  \n",
       "...                  ...   ...  \n",
       "550237              Iron  2012  \n",
       "550238              Iron  2012  \n",
       "550239              Iron  2012  \n",
       "550240              Iron  2012  \n",
       "550241              Iron  2012  \n",
       "\n",
       "[550157 rows x 8 columns]"
      ]
     },
     "execution_count": 131,
     "metadata": {},
     "output_type": "execute_result"
    }
   ],
   "source": [
    "df_clean = df.replace(r\"\\(.*\\)\",\"\", regex=True)\n",
    "df_clean"
   ]
  },
  {
   "cell_type": "markdown",
   "metadata": {},
   "source": [
    "Check if this has impacted the data by comparing with orginal dataframe"
   ]
  },
  {
   "cell_type": "code",
   "execution_count": 132,
   "metadata": {},
   "outputs": [
    {
     "data": {
      "text/html": [
       "<div>\n",
       "<style scoped>\n",
       "    .dataframe tbody tr th:only-of-type {\n",
       "        vertical-align: middle;\n",
       "    }\n",
       "\n",
       "    .dataframe tbody tr th {\n",
       "        vertical-align: top;\n",
       "    }\n",
       "\n",
       "    .dataframe thead th {\n",
       "        text-align: right;\n",
       "    }\n",
       "</style>\n",
       "<table border=\"1\" class=\"dataframe\">\n",
       "  <thead>\n",
       "    <tr style=\"text-align: right;\">\n",
       "      <th></th>\n",
       "      <th>State Name</th>\n",
       "      <th>District Name</th>\n",
       "      <th>Block Name</th>\n",
       "      <th>Panchayat Name</th>\n",
       "      <th>Village Name</th>\n",
       "      <th>Habitation Name</th>\n",
       "      <th>Quality Parameter</th>\n",
       "      <th>Year</th>\n",
       "    </tr>\n",
       "  </thead>\n",
       "  <tbody>\n",
       "    <tr>\n",
       "      <th>count</th>\n",
       "      <td>550157</td>\n",
       "      <td>550157</td>\n",
       "      <td>550157</td>\n",
       "      <td>550157</td>\n",
       "      <td>550157</td>\n",
       "      <td>550157</td>\n",
       "      <td>550157</td>\n",
       "      <td>550157</td>\n",
       "    </tr>\n",
       "    <tr>\n",
       "      <th>unique</th>\n",
       "      <td>27</td>\n",
       "      <td>493</td>\n",
       "      <td>3577</td>\n",
       "      <td>37471</td>\n",
       "      <td>81703</td>\n",
       "      <td>147566</td>\n",
       "      <td>5</td>\n",
       "      <td>4</td>\n",
       "    </tr>\n",
       "    <tr>\n",
       "      <th>top</th>\n",
       "      <td>RAJASTHAN</td>\n",
       "      <td>BARMER</td>\n",
       "      <td>BALESAR</td>\n",
       "      <td>RATANPUR</td>\n",
       "      <td>RAMPUR</td>\n",
       "      <td>HARIJAN TOLA</td>\n",
       "      <td>Iron</td>\n",
       "      <td>2009</td>\n",
       "    </tr>\n",
       "    <tr>\n",
       "      <th>freq</th>\n",
       "      <td>131417</td>\n",
       "      <td>43752</td>\n",
       "      <td>8358</td>\n",
       "      <td>797</td>\n",
       "      <td>691</td>\n",
       "      <td>3072</td>\n",
       "      <td>302162</td>\n",
       "      <td>179965</td>\n",
       "    </tr>\n",
       "  </tbody>\n",
       "</table>\n",
       "</div>"
      ],
      "text/plain": [
       "       State Name District Name Block Name Panchayat Name Village Name  \\\n",
       "count      550157        550157     550157         550157       550157   \n",
       "unique         27           493       3577          37471        81703   \n",
       "top     RAJASTHAN        BARMER    BALESAR       RATANPUR       RAMPUR   \n",
       "freq       131417         43752       8358            797          691   \n",
       "\n",
       "       Habitation Name Quality Parameter    Year  \n",
       "count           550157            550157  550157  \n",
       "unique          147566                 5       4  \n",
       "top       HARIJAN TOLA              Iron    2009  \n",
       "freq              3072            302162  179965  "
      ]
     },
     "execution_count": 132,
     "metadata": {},
     "output_type": "execute_result"
    }
   ],
   "source": [
    "df.describe()"
   ]
  },
  {
   "cell_type": "code",
   "execution_count": 133,
   "metadata": {},
   "outputs": [
    {
     "data": {
      "text/html": [
       "<div>\n",
       "<style scoped>\n",
       "    .dataframe tbody tr th:only-of-type {\n",
       "        vertical-align: middle;\n",
       "    }\n",
       "\n",
       "    .dataframe tbody tr th {\n",
       "        vertical-align: top;\n",
       "    }\n",
       "\n",
       "    .dataframe thead th {\n",
       "        text-align: right;\n",
       "    }\n",
       "</style>\n",
       "<table border=\"1\" class=\"dataframe\">\n",
       "  <thead>\n",
       "    <tr style=\"text-align: right;\">\n",
       "      <th></th>\n",
       "      <th>State Name</th>\n",
       "      <th>District Name</th>\n",
       "      <th>Block Name</th>\n",
       "      <th>Panchayat Name</th>\n",
       "      <th>Village Name</th>\n",
       "      <th>Habitation Name</th>\n",
       "      <th>Quality Parameter</th>\n",
       "      <th>Year</th>\n",
       "    </tr>\n",
       "  </thead>\n",
       "  <tbody>\n",
       "    <tr>\n",
       "      <th>count</th>\n",
       "      <td>550157</td>\n",
       "      <td>550157</td>\n",
       "      <td>550157</td>\n",
       "      <td>550157</td>\n",
       "      <td>550157</td>\n",
       "      <td>550157</td>\n",
       "      <td>550157</td>\n",
       "      <td>550157</td>\n",
       "    </tr>\n",
       "    <tr>\n",
       "      <th>unique</th>\n",
       "      <td>27</td>\n",
       "      <td>493</td>\n",
       "      <td>3575</td>\n",
       "      <td>37290</td>\n",
       "      <td>81442</td>\n",
       "      <td>146869</td>\n",
       "      <td>5</td>\n",
       "      <td>4</td>\n",
       "    </tr>\n",
       "    <tr>\n",
       "      <th>top</th>\n",
       "      <td>RAJASTHAN</td>\n",
       "      <td>BARMER</td>\n",
       "      <td>BALESAR</td>\n",
       "      <td>RATANPUR</td>\n",
       "      <td>RAMPUR</td>\n",
       "      <td>HARIJAN TOLA</td>\n",
       "      <td>Iron</td>\n",
       "      <td>2009</td>\n",
       "    </tr>\n",
       "    <tr>\n",
       "      <th>freq</th>\n",
       "      <td>131417</td>\n",
       "      <td>43752</td>\n",
       "      <td>8358</td>\n",
       "      <td>797</td>\n",
       "      <td>700</td>\n",
       "      <td>3072</td>\n",
       "      <td>302162</td>\n",
       "      <td>179965</td>\n",
       "    </tr>\n",
       "  </tbody>\n",
       "</table>\n",
       "</div>"
      ],
      "text/plain": [
       "       State Name District Name Block Name Panchayat Name Village Name  \\\n",
       "count      550157        550157     550157         550157       550157   \n",
       "unique         27           493       3575          37290        81442   \n",
       "top     RAJASTHAN        BARMER    BALESAR       RATANPUR       RAMPUR   \n",
       "freq       131417         43752       8358            797          700   \n",
       "\n",
       "       Habitation Name Quality Parameter    Year  \n",
       "count           550157            550157  550157  \n",
       "unique          146869                 5       4  \n",
       "top       HARIJAN TOLA              Iron    2009  \n",
       "freq              3072            302162  179965  "
      ]
     },
     "execution_count": 133,
     "metadata": {},
     "output_type": "execute_result"
    }
   ],
   "source": [
    "df_clean.describe()"
   ]
  },
  {
   "cell_type": "code",
   "execution_count": 134,
   "metadata": {},
   "outputs": [
    {
     "data": {
      "text/html": [
       "<div>\n",
       "<style scoped>\n",
       "    .dataframe tbody tr th:only-of-type {\n",
       "        vertical-align: middle;\n",
       "    }\n",
       "\n",
       "    .dataframe tbody tr th {\n",
       "        vertical-align: top;\n",
       "    }\n",
       "\n",
       "    .dataframe thead th {\n",
       "        text-align: right;\n",
       "    }\n",
       "</style>\n",
       "<table border=\"1\" class=\"dataframe\">\n",
       "  <thead>\n",
       "    <tr style=\"text-align: right;\">\n",
       "      <th></th>\n",
       "      <th>State Name</th>\n",
       "      <th>District Name</th>\n",
       "      <th>Block Name</th>\n",
       "      <th>Panchayat Name</th>\n",
       "      <th>Village Name</th>\n",
       "      <th>Habitation Name</th>\n",
       "      <th>Quality Parameter</th>\n",
       "      <th>Year</th>\n",
       "    </tr>\n",
       "  </thead>\n",
       "  <tbody>\n",
       "    <tr>\n",
       "      <th>0</th>\n",
       "      <td>ANDHRA PRADESH</td>\n",
       "      <td>EAST GODAVARI</td>\n",
       "      <td>PRATHIPADU</td>\n",
       "      <td>GOKAVARAM</td>\n",
       "      <td>VANTHADA</td>\n",
       "      <td>VANTHADA</td>\n",
       "      <td>Salinity</td>\n",
       "      <td>2009</td>\n",
       "    </tr>\n",
       "    <tr>\n",
       "      <th>1</th>\n",
       "      <td>ANDHRA PRADESH</td>\n",
       "      <td>EAST GODAVARI</td>\n",
       "      <td>PRATHIPADU</td>\n",
       "      <td>GOKAVARAM</td>\n",
       "      <td>PANDAVULAPALEM</td>\n",
       "      <td>PANDAVULAPALEM</td>\n",
       "      <td>Fluoride</td>\n",
       "      <td>2009</td>\n",
       "    </tr>\n",
       "    <tr>\n",
       "      <th>2</th>\n",
       "      <td>ANDHRA PRADESH</td>\n",
       "      <td>EAST GODAVARI</td>\n",
       "      <td>PRATHIPADU</td>\n",
       "      <td>GAJJANAPUDI</td>\n",
       "      <td>G. KOTHURU</td>\n",
       "      <td>G. KOTHURU</td>\n",
       "      <td>Salinity</td>\n",
       "      <td>2009</td>\n",
       "    </tr>\n",
       "    <tr>\n",
       "      <th>3</th>\n",
       "      <td>ANDHRA PRADESH</td>\n",
       "      <td>EAST GODAVARI</td>\n",
       "      <td>PRATHIPADU</td>\n",
       "      <td>GAJJANAPUDI</td>\n",
       "      <td>GAJJANAPUDI</td>\n",
       "      <td>GAJJANAPUDI</td>\n",
       "      <td>Salinity</td>\n",
       "      <td>2009</td>\n",
       "    </tr>\n",
       "    <tr>\n",
       "      <th>4</th>\n",
       "      <td>ANDHRA PRADESH</td>\n",
       "      <td>EAST GODAVARI</td>\n",
       "      <td>PRATHIPADU</td>\n",
       "      <td>CHINTALURU</td>\n",
       "      <td>CHINTALURU</td>\n",
       "      <td>CHINTALURU</td>\n",
       "      <td>Salinity</td>\n",
       "      <td>2009</td>\n",
       "    </tr>\n",
       "    <tr>\n",
       "      <th>...</th>\n",
       "      <td>...</td>\n",
       "      <td>...</td>\n",
       "      <td>...</td>\n",
       "      <td>...</td>\n",
       "      <td>...</td>\n",
       "      <td>...</td>\n",
       "      <td>...</td>\n",
       "      <td>...</td>\n",
       "    </tr>\n",
       "    <tr>\n",
       "      <th>550237</th>\n",
       "      <td>ASSAM</td>\n",
       "      <td>JORHAT</td>\n",
       "      <td>KALIAPANI</td>\n",
       "      <td>CHINTAMONIGARH</td>\n",
       "      <td>GHARACHOWA  HABI  GAON</td>\n",
       "      <td>2 NO. BORA - SAIKIA  CHUCK</td>\n",
       "      <td>Iron</td>\n",
       "      <td>2012</td>\n",
       "    </tr>\n",
       "    <tr>\n",
       "      <th>550238</th>\n",
       "      <td>ASSAM</td>\n",
       "      <td>JORHAT</td>\n",
       "      <td>KALIAPANI</td>\n",
       "      <td>CHINTAMONIGARH</td>\n",
       "      <td>GHARPHALIA GAON</td>\n",
       "      <td>GHARPHOLIA CHUCK</td>\n",
       "      <td>Iron</td>\n",
       "      <td>2012</td>\n",
       "    </tr>\n",
       "    <tr>\n",
       "      <th>550239</th>\n",
       "      <td>ASSAM</td>\n",
       "      <td>JORHAT</td>\n",
       "      <td>KALIAPANI</td>\n",
       "      <td>TAMULICHIGA  GAON</td>\n",
       "      <td>SIMALUGURI GAON</td>\n",
       "      <td>SIMALUGURI  BAMUN   CHUCK</td>\n",
       "      <td>Iron</td>\n",
       "      <td>2012</td>\n",
       "    </tr>\n",
       "    <tr>\n",
       "      <th>550240</th>\n",
       "      <td>ASSAM</td>\n",
       "      <td>JORHAT</td>\n",
       "      <td>KALIAPANI</td>\n",
       "      <td>TAMULICHIGA  GAON</td>\n",
       "      <td>SIMALUGURI GAON</td>\n",
       "      <td>POURUA  CHANGMI   CHUCK</td>\n",
       "      <td>Iron</td>\n",
       "      <td>2012</td>\n",
       "    </tr>\n",
       "    <tr>\n",
       "      <th>550241</th>\n",
       "      <td>ASSAM</td>\n",
       "      <td>JORHAT</td>\n",
       "      <td>KALIAPANI</td>\n",
       "      <td>TAMULICHIGA  GAON</td>\n",
       "      <td>SIMALUGURI GAON</td>\n",
       "      <td>TATALIGURI    KOIBORTA  CHUCK</td>\n",
       "      <td>Iron</td>\n",
       "      <td>2012</td>\n",
       "    </tr>\n",
       "  </tbody>\n",
       "</table>\n",
       "<p>549698 rows × 8 columns</p>\n",
       "</div>"
      ],
      "text/plain": [
       "            State Name  District Name  Block Name     Panchayat Name  \\\n",
       "0       ANDHRA PRADESH  EAST GODAVARI  PRATHIPADU          GOKAVARAM   \n",
       "1       ANDHRA PRADESH  EAST GODAVARI  PRATHIPADU          GOKAVARAM   \n",
       "2       ANDHRA PRADESH  EAST GODAVARI  PRATHIPADU        GAJJANAPUDI   \n",
       "3       ANDHRA PRADESH  EAST GODAVARI  PRATHIPADU        GAJJANAPUDI   \n",
       "4       ANDHRA PRADESH  EAST GODAVARI  PRATHIPADU         CHINTALURU   \n",
       "...                ...            ...         ...                ...   \n",
       "550237           ASSAM         JORHAT   KALIAPANI     CHINTAMONIGARH   \n",
       "550238           ASSAM         JORHAT   KALIAPANI     CHINTAMONIGARH   \n",
       "550239           ASSAM         JORHAT   KALIAPANI  TAMULICHIGA  GAON   \n",
       "550240           ASSAM         JORHAT   KALIAPANI  TAMULICHIGA  GAON   \n",
       "550241           ASSAM         JORHAT   KALIAPANI  TAMULICHIGA  GAON   \n",
       "\n",
       "                  Village Name                Habitation Name  \\\n",
       "0                     VANTHADA                       VANTHADA   \n",
       "1               PANDAVULAPALEM                 PANDAVULAPALEM   \n",
       "2                   G. KOTHURU                     G. KOTHURU   \n",
       "3                  GAJJANAPUDI                    GAJJANAPUDI   \n",
       "4                   CHINTALURU                     CHINTALURU   \n",
       "...                        ...                            ...   \n",
       "550237  GHARACHOWA  HABI  GAON     2 NO. BORA - SAIKIA  CHUCK   \n",
       "550238         GHARPHALIA GAON               GHARPHOLIA CHUCK   \n",
       "550239         SIMALUGURI GAON      SIMALUGURI  BAMUN   CHUCK   \n",
       "550240         SIMALUGURI GAON        POURUA  CHANGMI   CHUCK   \n",
       "550241         SIMALUGURI GAON  TATALIGURI    KOIBORTA  CHUCK   \n",
       "\n",
       "       Quality Parameter  Year  \n",
       "0               Salinity  2009  \n",
       "1               Fluoride  2009  \n",
       "2               Salinity  2009  \n",
       "3               Salinity  2009  \n",
       "4               Salinity  2009  \n",
       "...                  ...   ...  \n",
       "550237              Iron  2012  \n",
       "550238              Iron  2012  \n",
       "550239              Iron  2012  \n",
       "550240              Iron  2012  \n",
       "550241              Iron  2012  \n",
       "\n",
       "[549698 rows x 8 columns]"
      ]
     },
     "execution_count": 134,
     "metadata": {},
     "output_type": "execute_result"
    }
   ],
   "source": [
    "df_clean.drop_duplicates()"
   ]
  },
  {
   "cell_type": "markdown",
   "metadata": {},
   "source": [
    "There are some duplicate names from Block level down, so the numbers are serving a purpose\n",
    "\n",
    "Also creates duplicates so will use the original dataframe"
   ]
  },
  {
   "cell_type": "markdown",
   "metadata": {},
   "source": [
    "### Data probing\n",
    "\n",
    "Looking at the breakdown of bad quality water causes\n",
    "\n",
    "First going to look at the different qualities that caused unpotable water"
   ]
  },
  {
   "cell_type": "code",
   "execution_count": 135,
   "metadata": {},
   "outputs": [
    {
     "name": "stdout",
     "output_type": "stream",
     "text": [
      "Iron        302162\n",
      "Salinity    108923\n",
      "Fluoride    101038\n",
      "Arsenic      25705\n",
      "Nitrate      12329\n",
      "Name: Quality Parameter, dtype: int64\n"
     ]
    }
   ],
   "source": [
    "quality_count = df[\"Quality Parameter\"].value_counts()\n",
    "print(quality_count)"
   ]
  },
  {
   "cell_type": "code",
   "execution_count": 136,
   "metadata": {},
   "outputs": [
    {
     "data": {
      "image/png": "[encoded data removed]",
      "text/plain": [
       "<Figure size 720x432 with 1 Axes>"
      ]
     },
     "metadata": {},
     "output_type": "display_data"
    }
   ],
   "source": [
    "my_colors = ['darkgrey', 'lightsteelblue',\"khaki\",\"mediumaquamarine\",\"maroon\"]\n",
    "fig1, ax1 = plt.subplots(figsize=(10, 6))\n",
    "_,_,m = ax1.pie(quality_count.values,labels=quality_count.index,autopct='%1.1f%%', textprops={'size': 'x-large'}, colors=my_colors)\n",
    "[m[i].set_color('teal') for i in range(len(m))]\n",
    "fig1.set_facecolor(\"mistyrose\")\n",
    "plt.title(\"Quality Parameters Present Across All Years\", fontsize=20)\n",
    "plt.show()"
   ]
  },
  {
   "cell_type": "markdown",
   "metadata": {},
   "source": [
    "Maybe a more informative way to see this would be split by year too"
   ]
  },
  {
   "cell_type": "code",
   "execution_count": 137,
   "metadata": {},
   "outputs": [
    {
     "data": {
      "text/html": [
       "<div>\n",
       "<style scoped>\n",
       "    .dataframe tbody tr th:only-of-type {\n",
       "        vertical-align: middle;\n",
       "    }\n",
       "\n",
       "    .dataframe tbody tr th {\n",
       "        vertical-align: top;\n",
       "    }\n",
       "\n",
       "    .dataframe thead th {\n",
       "        text-align: right;\n",
       "    }\n",
       "</style>\n",
       "<table border=\"1\" class=\"dataframe\">\n",
       "  <thead>\n",
       "    <tr style=\"text-align: right;\">\n",
       "      <th></th>\n",
       "      <th>Year</th>\n",
       "      <th>Quality Parameter</th>\n",
       "      <th>Count</th>\n",
       "    </tr>\n",
       "  </thead>\n",
       "  <tbody>\n",
       "    <tr>\n",
       "      <th>0</th>\n",
       "      <td>2009</td>\n",
       "      <td>Iron</td>\n",
       "      <td>101839</td>\n",
       "    </tr>\n",
       "    <tr>\n",
       "      <th>1</th>\n",
       "      <td>2009</td>\n",
       "      <td>Fluoride</td>\n",
       "      <td>33362</td>\n",
       "    </tr>\n",
       "    <tr>\n",
       "      <th>2</th>\n",
       "      <td>2009</td>\n",
       "      <td>Salinity</td>\n",
       "      <td>32689</td>\n",
       "    </tr>\n",
       "    <tr>\n",
       "      <th>3</th>\n",
       "      <td>2009</td>\n",
       "      <td>Arsenic</td>\n",
       "      <td>9504</td>\n",
       "    </tr>\n",
       "    <tr>\n",
       "      <th>4</th>\n",
       "      <td>2009</td>\n",
       "      <td>Nitrate</td>\n",
       "      <td>2571</td>\n",
       "    </tr>\n",
       "    <tr>\n",
       "      <th>5</th>\n",
       "      <td>2010</td>\n",
       "      <td>Iron</td>\n",
       "      <td>79990</td>\n",
       "    </tr>\n",
       "    <tr>\n",
       "      <th>6</th>\n",
       "      <td>2010</td>\n",
       "      <td>Salinity</td>\n",
       "      <td>28706</td>\n",
       "    </tr>\n",
       "    <tr>\n",
       "      <th>7</th>\n",
       "      <td>2010</td>\n",
       "      <td>Fluoride</td>\n",
       "      <td>26178</td>\n",
       "    </tr>\n",
       "    <tr>\n",
       "      <th>8</th>\n",
       "      <td>2010</td>\n",
       "      <td>Arsenic</td>\n",
       "      <td>6548</td>\n",
       "    </tr>\n",
       "    <tr>\n",
       "      <th>9</th>\n",
       "      <td>2010</td>\n",
       "      <td>Nitrate</td>\n",
       "      <td>3133</td>\n",
       "    </tr>\n",
       "    <tr>\n",
       "      <th>10</th>\n",
       "      <td>2011</td>\n",
       "      <td>Iron</td>\n",
       "      <td>64191</td>\n",
       "    </tr>\n",
       "    <tr>\n",
       "      <th>11</th>\n",
       "      <td>2011</td>\n",
       "      <td>Salinity</td>\n",
       "      <td>24570</td>\n",
       "    </tr>\n",
       "    <tr>\n",
       "      <th>12</th>\n",
       "      <td>2011</td>\n",
       "      <td>Fluoride</td>\n",
       "      <td>23512</td>\n",
       "    </tr>\n",
       "    <tr>\n",
       "      <th>13</th>\n",
       "      <td>2011</td>\n",
       "      <td>Arsenic</td>\n",
       "      <td>5339</td>\n",
       "    </tr>\n",
       "    <tr>\n",
       "      <th>14</th>\n",
       "      <td>2011</td>\n",
       "      <td>Nitrate</td>\n",
       "      <td>3867</td>\n",
       "    </tr>\n",
       "    <tr>\n",
       "      <th>15</th>\n",
       "      <td>2012</td>\n",
       "      <td>Iron</td>\n",
       "      <td>56142</td>\n",
       "    </tr>\n",
       "    <tr>\n",
       "      <th>16</th>\n",
       "      <td>2012</td>\n",
       "      <td>Salinity</td>\n",
       "      <td>22958</td>\n",
       "    </tr>\n",
       "    <tr>\n",
       "      <th>17</th>\n",
       "      <td>2012</td>\n",
       "      <td>Fluoride</td>\n",
       "      <td>17986</td>\n",
       "    </tr>\n",
       "    <tr>\n",
       "      <th>18</th>\n",
       "      <td>2012</td>\n",
       "      <td>Arsenic</td>\n",
       "      <td>4314</td>\n",
       "    </tr>\n",
       "    <tr>\n",
       "      <th>19</th>\n",
       "      <td>2012</td>\n",
       "      <td>Nitrate</td>\n",
       "      <td>2758</td>\n",
       "    </tr>\n",
       "  </tbody>\n",
       "</table>\n",
       "</div>"
      ],
      "text/plain": [
       "    Year Quality Parameter   Count\n",
       "0   2009              Iron  101839\n",
       "1   2009          Fluoride   33362\n",
       "2   2009          Salinity   32689\n",
       "3   2009           Arsenic    9504\n",
       "4   2009           Nitrate    2571\n",
       "5   2010              Iron   79990\n",
       "6   2010          Salinity   28706\n",
       "7   2010          Fluoride   26178\n",
       "8   2010           Arsenic    6548\n",
       "9   2010           Nitrate    3133\n",
       "10  2011              Iron   64191\n",
       "11  2011          Salinity   24570\n",
       "12  2011          Fluoride   23512\n",
       "13  2011           Arsenic    5339\n",
       "14  2011           Nitrate    3867\n",
       "15  2012              Iron   56142\n",
       "16  2012          Salinity   22958\n",
       "17  2012          Fluoride   17986\n",
       "18  2012           Arsenic    4314\n",
       "19  2012           Nitrate    2758"
      ]
     },
     "execution_count": 137,
     "metadata": {},
     "output_type": "execute_result"
    }
   ],
   "source": [
    "q_by_year=df.groupby([\"Year\"])[\"Quality Parameter\"].value_counts().reset_index(name=\"Count\")\n",
    "q_by_year\n"
   ]
  },
  {
   "cell_type": "markdown",
   "metadata": {},
   "source": [
    "Attempt using Plotly to create a Sunburst chart"
   ]
  },
  {
   "cell_type": "code",
   "execution_count": 138,
   "metadata": {},
   "outputs": [
    {
     "data": {
      "application/vnd.plotly.v1+json": {
       "config": {
        "plotlyServerURL": "https://plot.ly"
       },
       "data": [
        {
         "branchvalues": "total",
         "domain": {
          "x": [
           0,
           1
          ],
          "y": [
           0,
           1
          ]
         },
         "hovertemplate": "labels=%{label}<br>Count=%{value}<br>parent=%{parent}<br>id=%{id}<extra></extra>",
         "ids": [
          "2009/Arsenic",
          "2010/Arsenic",
          "2011/Arsenic",
          "2012/Arsenic",
          "2009/Fluoride",
          "2010/Fluoride",
          "2011/Fluoride",
          "2012/Fluoride",
          "2009/Iron",
          "2010/Iron",
          "2011/Iron",
          "2012/Iron",
          "2009/Nitrate",
          "2010/Nitrate",
          "2011/Nitrate",
          "2012/Nitrate",
          "2009/Salinity",
          "2010/Salinity",
          "2011/Salinity",
          "2012/Salinity",
          "2009",
          "2010",
          "2011",
          "2012"
         ],
         "labels": [
          "Arsenic",
          "Arsenic",
          "Arsenic",
          "Arsenic",
          "Fluoride",
          "Fluoride",
          "Fluoride",
          "Fluoride",
          "Iron",
          "Iron",
          "Iron",
          "Iron",
          "Nitrate",
          "Nitrate",
          "Nitrate",
          "Nitrate",
          "Salinity",
          "Salinity",
          "Salinity",
          "Salinity",
          "2009",
          "2010",
          "2011",
          "2012"
         ],
         "name": "",
         "parents": [
          "2009",
          "2010",
          "2011",
          "2012",
          "2009",
          "2010",
          "2011",
          "2012",
          "2009",
          "2010",
          "2011",
          "2012",
          "2009",
          "2010",
          "2011",
          "2012",
          "2009",
          "2010",
          "2011",
          "2012",
          "",
          "",
          "",
          ""
         ],
         "type": "sunburst",
         "values": [
          9504,
          6548,
          5339,
          4314,
          33362,
          26178,
          23512,
          17986,
          101839,
          79990,
          64191,
          56142,
          2571,
          3133,
          3867,
          2758,
          32689,
          28706,
          24570,
          22958,
          179965,
          144555,
          121479,
          104158
         ]
        }
       ],
       "layout": {
        "legend": {
         "tracegroupgap": 0
        },
        "margin": {
         "t": 60
        },
        "template": {
         "data": {
          "bar": [
           {
            "error_x": {
             "color": "#2a3f5f"
            },
            "error_y": {
             "color": "#2a3f5f"
            },
            "marker": {
             "line": {
              "color": "#E5ECF6",
              "width": 0.5
             },
             "pattern": {
              "fillmode": "overlay",
              "size": 10,
              "solidity": 0.2
             }
            },
            "type": "bar"
           }
          ],
          "barpolar": [
           {
            "marker": {
             "line": {
              "color": "#E5ECF6",
              "width": 0.5
             },
             "pattern": {
              "fillmode": "overlay",
              "size": 10,
              "solidity": 0.2
             }
            },
            "type": "barpolar"
           }
          ],
          "carpet": [
           {
            "aaxis": {
             "endlinecolor": "#2a3f5f",
             "gridcolor": "white",
             "linecolor": "white",
             "minorgridcolor": "white",
             "startlinecolor": "#2a3f5f"
            },
            "baxis": {
             "endlinecolor": "#2a3f5f",
             "gridcolor": "white",
             "linecolor": "white",
             "minorgridcolor": "white",
             "startlinecolor": "#2a3f5f"
            },
            "type": "carpet"
           }
          ],
          "choropleth": [
           {
            "colorbar": {
             "outlinewidth": 0,
             "ticks": ""
            },
            "type": "choropleth"
           }
          ],
          "contour": [
           {
            "colorbar": {
             "outlinewidth": 0,
             "ticks": ""
            },
            "colorscale": [
             [
              0,
              "#0d0887"
             ],
             [
              0.1111111111111111,
              "#46039f"
             ],
             [
              0.2222222222222222,
              "#7201a8"
             ],
             [
              0.3333333333333333,
              "#9c179e"
             ],
             [
              0.4444444444444444,
              "#bd3786"
             ],
             [
              0.5555555555555556,
              "#d8576b"
             ],
             [
              0.6666666666666666,
              "#ed7953"
             ],
             [
              0.7777777777777778,
              "#fb9f3a"
             ],
             [
              0.8888888888888888,
              "#fdca26"
             ],
             [
              1,
              "#f0f921"
             ]
            ],
            "type": "contour"
           }
          ],
          "contourcarpet": [
           {
            "colorbar": {
             "outlinewidth": 0,
             "ticks": ""
            },
            "type": "contourcarpet"
           }
          ],
          "heatmap": [
           {
            "colorbar": {
             "outlinewidth": 0,
             "ticks": ""
            },
            "colorscale": [
             [
              0,
              "#0d0887"
             ],
             [
              0.1111111111111111,
              "#46039f"
             ],
             [
              0.2222222222222222,
              "#7201a8"
             ],
             [
              0.3333333333333333,
              "#9c179e"
             ],
             [
              0.4444444444444444,
              "#bd3786"
             ],
             [
              0.5555555555555556,
              "#d8576b"
             ],
             [
              0.6666666666666666,
              "#ed7953"
             ],
             [
              0.7777777777777778,
              "#fb9f3a"
             ],
             [
              0.8888888888888888,
              "#fdca26"
             ],
             [
              1,
              "#f0f921"
             ]
            ],
            "type": "heatmap"
           }
          ],
          "heatmapgl": [
           {
            "colorbar": {
             "outlinewidth": 0,
             "ticks": ""
            },
            "colorscale": [
             [
              0,
              "#0d0887"
             ],
             [
              0.1111111111111111,
              "#46039f"
             ],
             [
              0.2222222222222222,
              "#7201a8"
             ],
             [
              0.3333333333333333,
              "#9c179e"
             ],
             [
              0.4444444444444444,
              "#bd3786"
             ],
             [
              0.5555555555555556,
              "#d8576b"
             ],
             [
              0.6666666666666666,
              "#ed7953"
             ],
             [
              0.7777777777777778,
              "#fb9f3a"
             ],
             [
              0.8888888888888888,
              "#fdca26"
             ],
             [
              1,
              "#f0f921"
             ]
            ],
            "type": "heatmapgl"
           }
          ],
          "histogram": [
           {
            "marker": {
             "pattern": {
              "fillmode": "overlay",
              "size": 10,
              "solidity": 0.2
             }
            },
            "type": "histogram"
           }
          ],
          "histogram2d": [
           {
            "colorbar": {
             "outlinewidth": 0,
             "ticks": ""
            },
            "colorscale": [
             [
              0,
              "#0d0887"
             ],
             [
              0.1111111111111111,
              "#46039f"
             ],
             [
              0.2222222222222222,
              "#7201a8"
             ],
             [
              0.3333333333333333,
              "#9c179e"
             ],
             [
              0.4444444444444444,
              "#bd3786"
             ],
             [
              0.5555555555555556,
              "#d8576b"
             ],
             [
              0.6666666666666666,
              "#ed7953"
             ],
             [
              0.7777777777777778,
              "#fb9f3a"
             ],
             [
              0.8888888888888888,
              "#fdca26"
             ],
             [
              1,
              "#f0f921"
             ]
            ],
            "type": "histogram2d"
           }
          ],
          "histogram2dcontour": [
           {
            "colorbar": {
             "outlinewidth": 0,
             "ticks": ""
            },
            "colorscale": [
             [
              0,
              "#0d0887"
             ],
             [
              0.1111111111111111,
              "#46039f"
             ],
             [
              0.2222222222222222,
              "#7201a8"
             ],
             [
              0.3333333333333333,
              "#9c179e"
             ],
             [
              0.4444444444444444,
              "#bd3786"
             ],
             [
              0.5555555555555556,
              "#d8576b"
             ],
             [
              0.6666666666666666,
              "#ed7953"
             ],
             [
              0.7777777777777778,
              "#fb9f3a"
             ],
             [
              0.8888888888888888,
              "#fdca26"
             ],
             [
              1,
              "#f0f921"
             ]
            ],
            "type": "histogram2dcontour"
           }
          ],
          "mesh3d": [
           {
            "colorbar": {
             "outlinewidth": 0,
             "ticks": ""
            },
            "type": "mesh3d"
           }
          ],
          "parcoords": [
           {
            "line": {
             "colorbar": {
              "outlinewidth": 0,
              "ticks": ""
             }
            },
            "type": "parcoords"
           }
          ],
          "pie": [
           {
            "automargin": true,
            "type": "pie"
           }
          ],
          "scatter": [
           {
            "fillpattern": {
             "fillmode": "overlay",
             "size": 10,
             "solidity": 0.2
            },
            "type": "scatter"
           }
          ],
          "scatter3d": [
           {
            "line": {
             "colorbar": {
              "outlinewidth": 0,
              "ticks": ""
             }
            },
            "marker": {
             "colorbar": {
              "outlinewidth": 0,
              "ticks": ""
             }
            },
            "type": "scatter3d"
           }
          ],
          "scattercarpet": [
           {
            "marker": {
             "colorbar": {
              "outlinewidth": 0,
              "ticks": ""
             }
            },
            "type": "scattercarpet"
           }
          ],
          "scattergeo": [
           {
            "marker": {
             "colorbar": {
              "outlinewidth": 0,
              "ticks": ""
             }
            },
            "type": "scattergeo"
           }
          ],
          "scattergl": [
           {
            "marker": {
             "colorbar": {
              "outlinewidth": 0,
              "ticks": ""
             }
            },
            "type": "scattergl"
           }
          ],
          "scattermapbox": [
           {
            "marker": {
             "colorbar": {
              "outlinewidth": 0,
              "ticks": ""
             }
            },
            "type": "scattermapbox"
           }
          ],
          "scatterpolar": [
           {
            "marker": {
             "colorbar": {
              "outlinewidth": 0,
              "ticks": ""
             }
            },
            "type": "scatterpolar"
           }
          ],
          "scatterpolargl": [
           {
            "marker": {
             "colorbar": {
              "outlinewidth": 0,
              "ticks": ""
             }
            },
            "type": "scatterpolargl"
           }
          ],
          "scatterternary": [
           {
            "marker": {
             "colorbar": {
              "outlinewidth": 0,
              "ticks": ""
             }
            },
            "type": "scatterternary"
           }
          ],
          "surface": [
           {
            "colorbar": {
             "outlinewidth": 0,
             "ticks": ""
            },
            "colorscale": [
             [
              0,
              "#0d0887"
             ],
             [
              0.1111111111111111,
              "#46039f"
             ],
             [
              0.2222222222222222,
              "#7201a8"
             ],
             [
              0.3333333333333333,
              "#9c179e"
             ],
             [
              0.4444444444444444,
              "#bd3786"
             ],
             [
              0.5555555555555556,
              "#d8576b"
             ],
             [
              0.6666666666666666,
              "#ed7953"
             ],
             [
              0.7777777777777778,
              "#fb9f3a"
             ],
             [
              0.8888888888888888,
              "#fdca26"
             ],
             [
              1,
              "#f0f921"
             ]
            ],
            "type": "surface"
           }
          ],
          "table": [
           {
            "cells": {
             "fill": {
              "color": "#EBF0F8"
             },
             "line": {
              "color": "white"
             }
            },
            "header": {
             "fill": {
              "color": "#C8D4E3"
             },
             "line": {
              "color": "white"
             }
            },
            "type": "table"
           }
          ]
         },
         "layout": {
          "annotationdefaults": {
           "arrowcolor": "#2a3f5f",
           "arrowhead": 0,
           "arrowwidth": 1
          },
          "autotypenumbers": "strict",
          "coloraxis": {
           "colorbar": {
            "outlinewidth": 0,
            "ticks": ""
           }
          },
          "colorscale": {
           "diverging": [
            [
             0,
             "#8e0152"
            ],
            [
             0.1,
             "#c51b7d"
            ],
            [
             0.2,
             "#de77ae"
            ],
            [
             0.3,
             "#f1b6da"
            ],
            [
             0.4,
             "#fde0ef"
            ],
            [
             0.5,
             "#f7f7f7"
            ],
            [
             0.6,
             "#e6f5d0"
            ],
            [
             0.7,
             "#b8e186"
            ],
            [
             0.8,
             "#7fbc41"
            ],
            [
             0.9,
             "#4d9221"
            ],
            [
             1,
             "#276419"
            ]
           ],
           "sequential": [
            [
             0,
             "#0d0887"
            ],
            [
             0.1111111111111111,
             "#46039f"
            ],
            [
             0.2222222222222222,
             "#7201a8"
            ],
            [
             0.3333333333333333,
             "#9c179e"
            ],
            [
             0.4444444444444444,
             "#bd3786"
            ],
            [
             0.5555555555555556,
             "#d8576b"
            ],
            [
             0.6666666666666666,
             "#ed7953"
            ],
            [
             0.7777777777777778,
             "#fb9f3a"
            ],
            [
             0.8888888888888888,
             "#fdca26"
            ],
            [
             1,
             "#f0f921"
            ]
           ],
           "sequentialminus": [
            [
             0,
             "#0d0887"
            ],
            [
             0.1111111111111111,
             "#46039f"
            ],
            [
             0.2222222222222222,
             "#7201a8"
            ],
            [
             0.3333333333333333,
             "#9c179e"
            ],
            [
             0.4444444444444444,
             "#bd3786"
            ],
            [
             0.5555555555555556,
             "#d8576b"
            ],
            [
             0.6666666666666666,
             "#ed7953"
            ],
            [
             0.7777777777777778,
             "#fb9f3a"
            ],
            [
             0.8888888888888888,
             "#fdca26"
            ],
            [
             1,
             "#f0f921"
            ]
           ]
          },
          "colorway": [
           "#636efa",
           "#EF553B",
           "#00cc96",
           "#ab63fa",
           "#FFA15A",
           "#19d3f3",
           "#FF6692",
           "#B6E880",
           "#FF97FF",
           "#FECB52"
          ],
          "font": {
           "color": "#2a3f5f"
          },
          "geo": {
           "bgcolor": "white",
           "lakecolor": "white",
           "landcolor": "#E5ECF6",
           "showlakes": true,
           "showland": true,
           "subunitcolor": "white"
          },
          "hoverlabel": {
           "align": "left"
          },
          "hovermode": "closest",
          "mapbox": {
           "style": "light"
          },
          "paper_bgcolor": "white",
          "plot_bgcolor": "#E5ECF6",
          "polar": {
           "angularaxis": {
            "gridcolor": "white",
            "linecolor": "white",
            "ticks": ""
           },
           "bgcolor": "#E5ECF6",
           "radialaxis": {
            "gridcolor": "white",
            "linecolor": "white",
            "ticks": ""
           }
          },
          "scene": {
           "xaxis": {
            "backgroundcolor": "#E5ECF6",
            "gridcolor": "white",
            "gridwidth": 2,
            "linecolor": "white",
            "showbackground": true,
            "ticks": "",
            "zerolinecolor": "white"
           },
           "yaxis": {
            "backgroundcolor": "#E5ECF6",
            "gridcolor": "white",
            "gridwidth": 2,
            "linecolor": "white",
            "showbackground": true,
            "ticks": "",
            "zerolinecolor": "white"
           },
           "zaxis": {
            "backgroundcolor": "#E5ECF6",
            "gridcolor": "white",
            "gridwidth": 2,
            "linecolor": "white",
            "showbackground": true,
            "ticks": "",
            "zerolinecolor": "white"
           }
          },
          "shapedefaults": {
           "line": {
            "color": "#2a3f5f"
           }
          },
          "ternary": {
           "aaxis": {
            "gridcolor": "white",
            "linecolor": "white",
            "ticks": ""
           },
           "baxis": {
            "gridcolor": "white",
            "linecolor": "white",
            "ticks": ""
           },
           "bgcolor": "#E5ECF6",
           "caxis": {
            "gridcolor": "white",
            "linecolor": "white",
            "ticks": ""
           }
          },
          "title": {
           "x": 0.05
          },
          "xaxis": {
           "automargin": true,
           "gridcolor": "white",
           "linecolor": "white",
           "ticks": "",
           "title": {
            "standoff": 15
           },
           "zerolinecolor": "white",
           "zerolinewidth": 2
          },
          "yaxis": {
           "automargin": true,
           "gridcolor": "white",
           "linecolor": "white",
           "ticks": "",
           "title": {
            "standoff": 15
           },
           "zerolinecolor": "white",
           "zerolinewidth": 2
          }
         }
        },
        "title": {
         "text": "Sunburst of Water Qualities By Year",
         "x": 0.5,
         "xanchor": "center",
         "y": 0.9,
         "yanchor": "top"
        }
       }
      }
     },
     "metadata": {},
     "output_type": "display_data"
    }
   ],
   "source": [
    "fig = px.sunburst(q_by_year, path=[\"Year\",\"Quality Parameter\"], values=\"Count\")\n",
    "fig.update_layout(\n",
    "    title={\n",
    "        'text': \"Sunburst of Water Qualities By Year\",\n",
    "        'y':0.9,\n",
    "        'x':0.5,\n",
    "        'xanchor': 'center',\n",
    "        'yanchor': 'top'})\n",
    "fig.show()"
   ]
  },
  {
   "cell_type": "markdown",
   "metadata": {},
   "source": [
    "Same data represented with a grouped bar chart"
   ]
  },
  {
   "cell_type": "code",
   "execution_count": 139,
   "metadata": {},
   "outputs": [
    {
     "data": {
      "image/png": "[encoded data removed]",
      "text/plain": [
       "<Figure size 432x288 with 1 Axes>"
      ]
     },
     "metadata": {
      "needs_background": "light"
     },
     "output_type": "display_data"
    }
   ],
   "source": [
    "my_colors2 = [\"khaki\",\"mediumaquamarine\",'darkgrey',\"maroon\",'lightsteelblue']\n",
    "df_pivot = pd.pivot_table(df, index=[\"Year\"], columns=\"Quality Parameter\", aggfunc=\"size\")\n",
    "ax = df_pivot.plot(kind=\"bar\",alpha=0.5,color=my_colors2)\n",
    "ax.set_facecolor(\"mistyrose\")\n",
    "ax.grid(axis=\"y\", color=\"black\", alpha = 0.2)\n",
    "plt.title('Causes of Bad Water Quality by Year')\n",
    "plt.ylabel(\"Total Count\")\n",
    "plt.show()\n"
   ]
  },
  {
   "cell_type": "markdown",
   "metadata": {},
   "source": [
    "Needs restructuting to increase size\n",
    "\n",
    "Next, will look at which states have the most bad water quality reports"
   ]
  },
  {
   "cell_type": "code",
   "execution_count": 140,
   "metadata": {},
   "outputs": [
    {
     "data": {
      "image/png": "[encoded data removed]",
      "text/plain": [
       "<Figure size 1000x600 with 1 Axes>"
      ]
     },
     "metadata": {
      "needs_background": "light"
     },
     "output_type": "display_data"
    }
   ],
   "source": [
    "df2=df.groupby(['State Name']).agg({\"Quality Parameter\":pd.Series.count}).sort_values(by=('Quality Parameter'),ascending=False).reset_index().head(5)\n",
    "fig1, ax1 = plt.subplots(figsize=(10, 6), dpi=100)\n",
    "ax1.set_facecolor('mistyrose')\n",
    "ax1.bar(df2['State Name'],df2['Quality Parameter'],color=my_colors)\n",
    "\n",
    "plt.title('States With Greatest Incidence of Bad Water Quality (Top 5)')\n",
    "plt.xlabel(\"States\")\n",
    "plt.ylabel(\"Total Count\")\n",
    "plt.show()"
   ]
  },
  {
   "cell_type": "markdown",
   "metadata": {},
   "source": [
    "This could be potentially misleading though. What if we consider the size of these states?\n",
    "\n",
    "With the data available the most logical thing would be to also compare the total habitation sites in each of these states.\n",
    "\n",
    "Imperfect on account of sites most likely differeing in population size but hopefully this is made less significant with such a large sample size."
   ]
  },
  {
   "cell_type": "markdown",
   "metadata": {},
   "source": [
    "First, a table of the top 5 states with their incident count"
   ]
  },
  {
   "cell_type": "code",
   "execution_count": 141,
   "metadata": {},
   "outputs": [
    {
     "data": {
      "text/html": [
       "<div>\n",
       "<style scoped>\n",
       "    .dataframe tbody tr th:only-of-type {\n",
       "        vertical-align: middle;\n",
       "    }\n",
       "\n",
       "    .dataframe tbody tr th {\n",
       "        vertical-align: top;\n",
       "    }\n",
       "\n",
       "    .dataframe thead th {\n",
       "        text-align: right;\n",
       "    }\n",
       "</style>\n",
       "<table border=\"1\" class=\"dataframe\">\n",
       "  <thead>\n",
       "    <tr style=\"text-align: right;\">\n",
       "      <th></th>\n",
       "      <th>State Name</th>\n",
       "      <th>Quality Parameter</th>\n",
       "    </tr>\n",
       "  </thead>\n",
       "  <tbody>\n",
       "    <tr>\n",
       "      <th>0</th>\n",
       "      <td>RAJASTHAN</td>\n",
       "      <td>131417</td>\n",
       "    </tr>\n",
       "    <tr>\n",
       "      <th>1</th>\n",
       "      <td>BIHAR</td>\n",
       "      <td>92332</td>\n",
       "    </tr>\n",
       "    <tr>\n",
       "      <th>2</th>\n",
       "      <td>ASSAM</td>\n",
       "      <td>79910</td>\n",
       "    </tr>\n",
       "    <tr>\n",
       "      <th>3</th>\n",
       "      <td>ORISSA</td>\n",
       "      <td>68619</td>\n",
       "    </tr>\n",
       "    <tr>\n",
       "      <th>4</th>\n",
       "      <td>KARNATAKA</td>\n",
       "      <td>30822</td>\n",
       "    </tr>\n",
       "  </tbody>\n",
       "</table>\n",
       "</div>"
      ],
      "text/plain": [
       "  State Name  Quality Parameter\n",
       "0  RAJASTHAN             131417\n",
       "1      BIHAR              92332\n",
       "2      ASSAM              79910\n",
       "3     ORISSA              68619\n",
       "4  KARNATAKA              30822"
      ]
     },
     "execution_count": 141,
     "metadata": {},
     "output_type": "execute_result"
    }
   ],
   "source": [
    "df2=df.groupby(['State Name']).agg({\"Quality Parameter\":pd.Series.count}).sort_values(by=('Quality Parameter'),ascending=False).reset_index().head(5)\n",
    "df2\n"
   ]
  },
  {
   "cell_type": "markdown",
   "metadata": {},
   "source": [
    "Then one linking the sates with their unique habitation counts"
   ]
  },
  {
   "cell_type": "code",
   "execution_count": 142,
   "metadata": {},
   "outputs": [
    {
     "data": {
      "text/html": [
       "<div>\n",
       "<style scoped>\n",
       "    .dataframe tbody tr th:only-of-type {\n",
       "        vertical-align: middle;\n",
       "    }\n",
       "\n",
       "    .dataframe tbody tr th {\n",
       "        vertical-align: top;\n",
       "    }\n",
       "\n",
       "    .dataframe thead th {\n",
       "        text-align: right;\n",
       "    }\n",
       "</style>\n",
       "<table border=\"1\" class=\"dataframe\">\n",
       "  <thead>\n",
       "    <tr style=\"text-align: right;\">\n",
       "      <th></th>\n",
       "      <th>State Name</th>\n",
       "      <th>Habitation Name</th>\n",
       "    </tr>\n",
       "  </thead>\n",
       "  <tbody>\n",
       "    <tr>\n",
       "      <th>0</th>\n",
       "      <td>RAJASTHAN</td>\n",
       "      <td>31399</td>\n",
       "    </tr>\n",
       "    <tr>\n",
       "      <th>1</th>\n",
       "      <td>ASSAM</td>\n",
       "      <td>23302</td>\n",
       "    </tr>\n",
       "    <tr>\n",
       "      <th>2</th>\n",
       "      <td>BIHAR</td>\n",
       "      <td>19263</td>\n",
       "    </tr>\n",
       "    <tr>\n",
       "      <th>3</th>\n",
       "      <td>ORISSA</td>\n",
       "      <td>16752</td>\n",
       "    </tr>\n",
       "    <tr>\n",
       "      <th>4</th>\n",
       "      <td>KARNATAKA</td>\n",
       "      <td>13123</td>\n",
       "    </tr>\n",
       "    <tr>\n",
       "      <th>5</th>\n",
       "      <td>WEST BENGAL</td>\n",
       "      <td>9032</td>\n",
       "    </tr>\n",
       "    <tr>\n",
       "      <th>6</th>\n",
       "      <td>CHATTISGARH</td>\n",
       "      <td>6973</td>\n",
       "    </tr>\n",
       "    <tr>\n",
       "      <th>7</th>\n",
       "      <td>UTTAR PRADESH</td>\n",
       "      <td>6840</td>\n",
       "    </tr>\n",
       "    <tr>\n",
       "      <th>8</th>\n",
       "      <td>TRIPURA</td>\n",
       "      <td>6634</td>\n",
       "    </tr>\n",
       "    <tr>\n",
       "      <th>9</th>\n",
       "      <td>MAHARASHTRA</td>\n",
       "      <td>5184</td>\n",
       "    </tr>\n",
       "    <tr>\n",
       "      <th>10</th>\n",
       "      <td>CHHATTISGARH</td>\n",
       "      <td>5067</td>\n",
       "    </tr>\n",
       "    <tr>\n",
       "      <th>11</th>\n",
       "      <td>MADHYA PRADESH</td>\n",
       "      <td>4436</td>\n",
       "    </tr>\n",
       "    <tr>\n",
       "      <th>12</th>\n",
       "      <td>JHARKHAND</td>\n",
       "      <td>1662</td>\n",
       "    </tr>\n",
       "    <tr>\n",
       "      <th>13</th>\n",
       "      <td>TAMIL NADU</td>\n",
       "      <td>1593</td>\n",
       "    </tr>\n",
       "    <tr>\n",
       "      <th>14</th>\n",
       "      <td>ANDHRA PRADESH</td>\n",
       "      <td>1298</td>\n",
       "    </tr>\n",
       "    <tr>\n",
       "      <th>15</th>\n",
       "      <td>GUJARAT</td>\n",
       "      <td>1255</td>\n",
       "    </tr>\n",
       "    <tr>\n",
       "      <th>16</th>\n",
       "      <td>KERALA</td>\n",
       "      <td>941</td>\n",
       "    </tr>\n",
       "    <tr>\n",
       "      <th>17</th>\n",
       "      <td>PUNJAB</td>\n",
       "      <td>856</td>\n",
       "    </tr>\n",
       "    <tr>\n",
       "      <th>18</th>\n",
       "      <td>ARUNACHAL PRADESH</td>\n",
       "      <td>286</td>\n",
       "    </tr>\n",
       "    <tr>\n",
       "      <th>19</th>\n",
       "      <td>NAGALAND</td>\n",
       "      <td>262</td>\n",
       "    </tr>\n",
       "    <tr>\n",
       "      <th>20</th>\n",
       "      <td>HARYANA</td>\n",
       "      <td>199</td>\n",
       "    </tr>\n",
       "    <tr>\n",
       "      <th>21</th>\n",
       "      <td>MEGHALAYA</td>\n",
       "      <td>130</td>\n",
       "    </tr>\n",
       "    <tr>\n",
       "      <th>22</th>\n",
       "      <td>HIMACHAL PRADESH</td>\n",
       "      <td>82</td>\n",
       "    </tr>\n",
       "    <tr>\n",
       "      <th>23</th>\n",
       "      <td>JAMMU AND KASHMIR</td>\n",
       "      <td>47</td>\n",
       "    </tr>\n",
       "    <tr>\n",
       "      <th>24</th>\n",
       "      <td>UTTARAKHAND</td>\n",
       "      <td>26</td>\n",
       "    </tr>\n",
       "    <tr>\n",
       "      <th>25</th>\n",
       "      <td>PUDUCHERRY</td>\n",
       "      <td>12</td>\n",
       "    </tr>\n",
       "    <tr>\n",
       "      <th>26</th>\n",
       "      <td>MANIPUR</td>\n",
       "      <td>5</td>\n",
       "    </tr>\n",
       "  </tbody>\n",
       "</table>\n",
       "</div>"
      ],
      "text/plain": [
       "           State Name  Habitation Name\n",
       "0           RAJASTHAN            31399\n",
       "1               ASSAM            23302\n",
       "2               BIHAR            19263\n",
       "3              ORISSA            16752\n",
       "4           KARNATAKA            13123\n",
       "5         WEST BENGAL             9032\n",
       "6         CHATTISGARH             6973\n",
       "7       UTTAR PRADESH             6840\n",
       "8             TRIPURA             6634\n",
       "9         MAHARASHTRA             5184\n",
       "10       CHHATTISGARH             5067\n",
       "11     MADHYA PRADESH             4436\n",
       "12          JHARKHAND             1662\n",
       "13         TAMIL NADU             1593\n",
       "14     ANDHRA PRADESH             1298\n",
       "15            GUJARAT             1255\n",
       "16             KERALA              941\n",
       "17             PUNJAB              856\n",
       "18  ARUNACHAL PRADESH              286\n",
       "19           NAGALAND              262\n",
       "20            HARYANA              199\n",
       "21          MEGHALAYA              130\n",
       "22   HIMACHAL PRADESH               82\n",
       "23  JAMMU AND KASHMIR               47\n",
       "24        UTTARAKHAND               26\n",
       "25         PUDUCHERRY               12\n",
       "26            MANIPUR                5"
      ]
     },
     "execution_count": 142,
     "metadata": {},
     "output_type": "execute_result"
    }
   ],
   "source": [
    "df3=df.groupby(['State Name'])[\"Habitation Name\"].nunique().sort_values(ascending=False).reset_index()\n",
    "df3\n"
   ]
  },
  {
   "cell_type": "markdown",
   "metadata": {},
   "source": [
    "Looks promising for our further investigation. The top 5 states are the same on both tables\n",
    "\n",
    "Left merge on first table to provide all of the required information"
   ]
  },
  {
   "cell_type": "code",
   "execution_count": 143,
   "metadata": {},
   "outputs": [
    {
     "data": {
      "text/html": [
       "<div>\n",
       "<style scoped>\n",
       "    .dataframe tbody tr th:only-of-type {\n",
       "        vertical-align: middle;\n",
       "    }\n",
       "\n",
       "    .dataframe tbody tr th {\n",
       "        vertical-align: top;\n",
       "    }\n",
       "\n",
       "    .dataframe thead th {\n",
       "        text-align: right;\n",
       "    }\n",
       "</style>\n",
       "<table border=\"1\" class=\"dataframe\">\n",
       "  <thead>\n",
       "    <tr style=\"text-align: right;\">\n",
       "      <th></th>\n",
       "      <th>State Name</th>\n",
       "      <th>Quality Parameter</th>\n",
       "      <th>Habitation Name</th>\n",
       "    </tr>\n",
       "  </thead>\n",
       "  <tbody>\n",
       "    <tr>\n",
       "      <th>0</th>\n",
       "      <td>RAJASTHAN</td>\n",
       "      <td>131417</td>\n",
       "      <td>31399</td>\n",
       "    </tr>\n",
       "    <tr>\n",
       "      <th>1</th>\n",
       "      <td>BIHAR</td>\n",
       "      <td>92332</td>\n",
       "      <td>19263</td>\n",
       "    </tr>\n",
       "    <tr>\n",
       "      <th>2</th>\n",
       "      <td>ASSAM</td>\n",
       "      <td>79910</td>\n",
       "      <td>23302</td>\n",
       "    </tr>\n",
       "    <tr>\n",
       "      <th>3</th>\n",
       "      <td>ORISSA</td>\n",
       "      <td>68619</td>\n",
       "      <td>16752</td>\n",
       "    </tr>\n",
       "    <tr>\n",
       "      <th>4</th>\n",
       "      <td>KARNATAKA</td>\n",
       "      <td>30822</td>\n",
       "      <td>13123</td>\n",
       "    </tr>\n",
       "  </tbody>\n",
       "</table>\n",
       "</div>"
      ],
      "text/plain": [
       "  State Name  Quality Parameter  Habitation Name\n",
       "0  RAJASTHAN             131417            31399\n",
       "1      BIHAR              92332            19263\n",
       "2      ASSAM              79910            23302\n",
       "3     ORISSA              68619            16752\n",
       "4  KARNATAKA              30822            13123"
      ]
     },
     "execution_count": 143,
     "metadata": {},
     "output_type": "execute_result"
    }
   ],
   "source": [
    "df4 = pd.merge(df2,df3,how=\"left\",on=\"State Name\")\n",
    "df4"
   ]
  },
  {
   "cell_type": "markdown",
   "metadata": {},
   "source": [
    "Use this data to add a new plot to the existing graph\n",
    "\n",
    "Will opt to scale both y axes the same and hide the new one for less clutter"
   ]
  },
  {
   "cell_type": "code",
   "execution_count": 144,
   "metadata": {},
   "outputs": [
    {
     "data": {
      "image/png": "[encoded data removed]",
      "text/plain": [
       "<Figure size 1000x600 with 2 Axes>"
      ]
     },
     "metadata": {
      "needs_background": "light"
     },
     "output_type": "display_data"
    }
   ],
   "source": [
    "fig1, ax1 = plt.subplots(figsize=(10, 6), dpi=100)\n",
    "ax2 = ax1.twinx()\n",
    "ax1.set_facecolor('mistyrose')\n",
    "ax1.bar(df4['State Name'],df4['Quality Parameter'],color=my_colors)\n",
    "ax1.set_ylabel(\"Report Count\")\n",
    "ax1.set_ylim([0,140000])\n",
    "ax1.grid(axis=\"y\", color=\"black\", alpha = 0.2)\n",
    "\n",
    "ax2.plot(df4[\"State Name\"],df4[\"Habitation Name\"], marker=\"o\", label = \"Habitation Count\")\n",
    "# ax2.set_ylabel(\"Habitation Count\")\n",
    "ax2.set_ylim([0,140000])\n",
    "ax2.tick_params(left=False, labelleft=False, top=False, labeltop=False, right=False, labelright=False, bottom=False, labelbottom=False)\n",
    "\n",
    "plt.title('States With Greatest Incidence of Bad Water Quality (Top 5)\\nAnd Their Habitation Count')\n",
    "plt.xlabel(\"States\")\n",
    "# plt.ylabel(\"Total Count\")\n",
    "ax2.legend(loc=\"upper right\")\n",
    "plt.show()"
   ]
  }
 ],
 "metadata": {
  "interpreter": {
   "hash": "26de051ba29f2982a8de78e945f0abaf191376122a1563185a90213a26c5da77"
  },
  "kernelspec": {
   "display_name": "Python 3.10.1 64-bit",
   "language": "python",
   "name": "python3"
  },
  "language_info": {
   "codemirror_mode": {
    "name": "ipython",
    "version": 3
   },
   "file_extension": ".py",
   "mimetype": "text/x-python",
   "name": "python",
   "nbconvert_exporter": "python",
   "pygments_lexer": "ipython3",
   "version": "3.10.1"
  },
  "orig_nbformat": 4
 },
 "nbformat": 4,
 "nbformat_minor": 2
}
